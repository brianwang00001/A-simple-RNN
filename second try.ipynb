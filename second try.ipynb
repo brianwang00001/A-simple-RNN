{
 "cells": [
  {
   "cell_type": "code",
   "execution_count": 465,
   "metadata": {},
   "outputs": [
    {
     "name": "stdout",
     "output_type": "stream",
     "text": [
      "Data has 228145 characters, 27 unique.\n"
     ]
    }
   ],
   "source": [
    "import numpy as np\n",
    "\n",
    "# data I/O\n",
    "with open('names.txt', 'r') as f: \n",
    "    data = f.read()\n",
    "chars = sorted(list(set(data)))\n",
    "data_size, vocab_size = len(data), len(chars)\n",
    "stoi = {j:i for i, j in enumerate(chars)}\n",
    "itos = {i:j for i, j in enumerate(chars)}\n",
    "\n",
    "print(f'Data has {data_size} characters, {vocab_size} unique.')"
   ]
  },
  {
   "cell_type": "code",
   "execution_count": 466,
   "metadata": {},
   "outputs": [],
   "source": [
    "# hyperparameters\n",
    "seq_length = 25\n",
    "hidden_size = 100\n",
    "\n",
    "np.random.seed(1234)\n",
    "# parameters \n",
    "Wxh = np.random.randn(hidden_size, vocab_size) * 0.01\n",
    "Whh = np.random.randn(hidden_size, hidden_size) * 0.01 \n",
    "Why = np.random.randn(vocab_size, hidden_size) * 0.01\n",
    "bh = np.zeros((hidden_size, 1))\n",
    "by = np.zeros((vocab_size, 1))"
   ]
  },
  {
   "cell_type": "code",
   "execution_count": 467,
   "metadata": {},
   "outputs": [],
   "source": [
    "# inputs and targets \n",
    "inputs = [stoi[ch] for ch in data[0:seq_length]]\n",
    "targets = [stoi[ch] for ch in data[1:seq_length+1]]"
   ]
  },
  {
   "cell_type": "code",
   "execution_count": 468,
   "metadata": {},
   "outputs": [
    {
     "name": "stdout",
     "output_type": "stream",
     "text": [
      "82.39381010667938\n"
     ]
    }
   ],
   "source": [
    "# forward pass \n",
    "xs, hs, ys, ps = {}, {}, {}, {}\n",
    "loss = 0\n",
    "hs[-1] = np.zeros((hidden_size, 1))\n",
    "\n",
    "for t in range(len(inputs)):\n",
    "    # convert input to one-hot \n",
    "    xs[t] = np.zeros((vocab_size, 1))\n",
    "    xs[t][inputs[t]] = 1\n",
    "    hs[t] = np.tanh(Wxh @ xs[t] + Whh @ hs[t-1] + bh)\n",
    "    ys[t] = Why @ hs[t] + by\n",
    "    # cross entropy \n",
    "    ps[t] = ys[t]\n",
    "    #ps[t] -= np.max(ys[t])\n",
    "    ps[t] = np.exp(ps[t]) / np.sum(np.exp(ps[t]))\n",
    "    loss += -np.log(ps[t][targets[t]].item())\n",
    "print(loss)\n"
   ]
  },
  {
   "cell_type": "code",
   "execution_count": 469,
   "metadata": {},
   "outputs": [],
   "source": [
    "# backward pass\n",
    "dWhh = np.zeros_like(Whh)\n",
    "dWxh = np.zeros_like(Wxh)\n",
    "dWhy = np.zeros_like(Why)\n",
    "dbh = np.zeros_like(bh)\n",
    "dby = np.zeros_like(by)\n",
    "dhnext = np.zeros_like(hs[0])\n",
    "\n",
    "for t in reversed(range(len(inputs))):\n",
    "    dtarget = ps[t]\n",
    "    dtarget[targets[t]] -= 1\n",
    "    dby += dtarget\n",
    "    dWhy += dtarget @ hs[t].T\n",
    "    dh = Why.T @ dtarget + dhnext\n",
    "    dh_before_tanh = (1 - hs[t]**2) * dh \n",
    "    dbh += dh_before_tanh\n",
    "    dWxh += dh_before_tanh @ xs[t].T\n",
    "    dWhh += dh_before_tanh @ hs[t-1].T \n",
    "    dhnext = Whh.T @ dh_before_tanh"
   ]
  },
  {
   "cell_type": "code",
   "execution_count": 470,
   "metadata": {},
   "outputs": [],
   "source": [
    "# update\n",
    "lr = 0.1\n",
    "for param, dparam in zip([Whh, Wxh, Why, bh, by],\n",
    "                         [dWhh, dWxh, dWhy, dbh, dby]):\n",
    "    param += -lr * dparam"
   ]
  },
  {
   "cell_type": "code",
   "execution_count": 471,
   "metadata": {},
   "outputs": [
    {
     "name": "stdout",
     "output_type": "stream",
     "text": [
      "xafznv\n",
      "iftygfnxbiqpacnmftmpijxaurzmevwxoejz\n",
      "czqadskhly\n",
      "havddyvqxitnleyiizmvgepwirdbyg\n",
      "wsrajjognoalak\n"
     ]
    }
   ],
   "source": [
    "# sample \n",
    "h = np.zeros((hidden_size, 1))\n",
    "x = np.zeros((vocab_size, 1))\n",
    "x[0, 0] = 1\n",
    "\n",
    "result_idx = []\n",
    "\n",
    "for _ in range(100):\n",
    "    h = np.tanh(Wxh @ x + Whh @ h + bh)\n",
    "    y = Why @ h + by\n",
    "    p = np.exp(y) / np.sum(np.exp(y))\n",
    "    idx = np.random.choice(range(vocab_size), p=p.ravel())\n",
    "\n",
    "    result_idx.append(idx)\n",
    "\n",
    "    x = np.zeros((vocab_size, 1))\n",
    "    x[idx] = 1\n",
    "\n",
    "result_char = [itos[i] for i in result_idx]\n",
    "result = ''.join(result_char)\n",
    "print(result)"
   ]
  },
  {
   "cell_type": "code",
   "execution_count": 476,
   "metadata": {},
   "outputs": [],
   "source": [
    "# load data \n",
    "\n",
    "load_idx = 0\n",
    "while load_idx + 1 + seq_length < data_size:\n",
    "    inputs = data[load_idx:load_idx+seq_length]\n",
    "    targets = data[load_idx+1:load_idx+seq_length+1]\n",
    "    load_idx += seq_length"
   ]
  },
  {
   "attachments": {},
   "cell_type": "markdown",
   "metadata": {},
   "source": [
    "## Put them together"
   ]
  },
  {
   "cell_type": "code",
   "execution_count": 12,
   "metadata": {},
   "outputs": [
    {
     "name": "stdout",
     "output_type": "stream",
     "text": [
      "Data has 228145 characters, 27 unique.\n",
      "One epoch = 4562.9 iterations.\n",
      "Iteration : 0 | Loss : 164.78918074352006\n",
      "Iteration : 1 | Loss : 164.76558581000256\n",
      "Iteration : 2 | Loss : 164.73247050722895\n",
      "Iteration : 3 | Loss : 164.77303516708812\n",
      "Iteration : 4 | Loss : 164.73849118355986\n",
      "Iteration : 5 | Loss : 164.73466550692666\n",
      "Iteration : 6 | Loss : 164.7255443732766\n",
      "Iteration : 7 | Loss : 164.70502765145832\n",
      "Iteration : 8 | Loss : 164.68980661459057\n",
      "Iteration : 9 | Loss : 164.68344936741588\n",
      "Iteration : 10 | Loss : 164.6881377422864\n",
      "Iteration : 11 | Loss : 164.67186767407424\n",
      "Iteration : 12 | Loss : 164.6357510025456\n",
      "Iteration : 13 | Loss : 164.611542359241\n",
      "Iteration : 14 | Loss : 164.60223339434097\n",
      "Iteration : 15 | Loss : 164.59256797393238\n",
      "Iteration : 16 | Loss : 164.58292723877332\n",
      "Iteration : 17 | Loss : 164.52156677429596\n",
      "Iteration : 18 | Loss : 164.54921626861764\n",
      "Iteration : 19 | Loss : 164.48120347013827\n",
      "Iteration : 20 | Loss : 164.52616605081064\n",
      "Iteration : 21 | Loss : 164.4148575929335\n",
      "Iteration : 22 | Loss : 164.509027003288\n",
      "Iteration : 23 | Loss : 164.48999723691955\n",
      "Iteration : 24 | Loss : 164.4040354682421\n",
      "Iteration : 25 | Loss : 164.3443669142028\n",
      "Iteration : 26 | Loss : 164.36627625688965\n",
      "Iteration : 27 | Loss : 164.36704694081467\n",
      "Iteration : 28 | Loss : 164.35900716178062\n",
      "Iteration : 29 | Loss : 164.33009514117182\n",
      "Iteration : 30 | Loss : 164.3207683430228\n",
      "Iteration : 31 | Loss : 164.12005459935054\n",
      "Iteration : 32 | Loss : 164.06485554278933\n",
      "Iteration : 33 | Loss : 164.08427674515318\n",
      "Iteration : 34 | Loss : 164.01952303036916\n",
      "Iteration : 35 | Loss : 163.9464937971114\n",
      "Iteration : 36 | Loss : 163.98256895448506\n",
      "Iteration : 37 | Loss : 163.81114364222594\n"
     ]
    },
    {
     "ename": "KeyboardInterrupt",
     "evalue": "",
     "output_type": "error",
     "traceback": [
      "\u001b[0;31m---------------------------------------------------------------------------\u001b[0m",
      "\u001b[0;31mKeyboardInterrupt\u001b[0m                         Traceback (most recent call last)",
      "\u001b[0;32m<ipython-input-12-7b2d9e9b903d>\u001b[0m in \u001b[0;36m<module>\u001b[0;34m\u001b[0m\n\u001b[1;32m     93\u001b[0m         \u001b[0mdbh\u001b[0m \u001b[0;34m+=\u001b[0m \u001b[0mdh_before_tanh\u001b[0m\u001b[0;34m\u001b[0m\u001b[0;34m\u001b[0m\u001b[0m\n\u001b[1;32m     94\u001b[0m         \u001b[0mdWxh\u001b[0m \u001b[0;34m+=\u001b[0m \u001b[0mdh_before_tanh\u001b[0m \u001b[0;34m@\u001b[0m \u001b[0mxs\u001b[0m\u001b[0;34m[\u001b[0m\u001b[0mt\u001b[0m\u001b[0;34m]\u001b[0m\u001b[0;34m.\u001b[0m\u001b[0mT\u001b[0m\u001b[0;34m\u001b[0m\u001b[0;34m\u001b[0m\u001b[0m\n\u001b[0;32m---> 95\u001b[0;31m         \u001b[0mdWhh\u001b[0m \u001b[0;34m+=\u001b[0m \u001b[0mdh_before_tanh\u001b[0m \u001b[0;34m@\u001b[0m \u001b[0mhs\u001b[0m\u001b[0;34m[\u001b[0m\u001b[0mt\u001b[0m\u001b[0;34m-\u001b[0m\u001b[0;36m1\u001b[0m\u001b[0;34m]\u001b[0m\u001b[0;34m.\u001b[0m\u001b[0mT\u001b[0m\u001b[0;34m\u001b[0m\u001b[0;34m\u001b[0m\u001b[0m\n\u001b[0m\u001b[1;32m     96\u001b[0m         \u001b[0mdhnext\u001b[0m \u001b[0;34m=\u001b[0m \u001b[0mWhh\u001b[0m\u001b[0;34m.\u001b[0m\u001b[0mT\u001b[0m \u001b[0;34m@\u001b[0m \u001b[0mdh_before_tanh\u001b[0m\u001b[0;34m\u001b[0m\u001b[0;34m\u001b[0m\u001b[0m\n\u001b[1;32m     97\u001b[0m \u001b[0;34m\u001b[0m\u001b[0m\n",
      "\u001b[0;31mKeyboardInterrupt\u001b[0m: "
     ]
    }
   ],
   "source": [
    "import numpy as np\n",
    "np.random.seed(1234)\n",
    "\n",
    "# data I/O\n",
    "with open('names.txt', 'r') as f: \n",
    "    data = f.read()\n",
    "chars = sorted(list(set(data)))\n",
    "data_size, vocab_size = len(data), len(chars)\n",
    "stoi = {j:i for i, j in enumerate(chars)}\n",
    "itos = {i:j for i, j in enumerate(chars)}\n",
    "\n",
    "print(f'Data has {data_size} characters, {vocab_size} unique.')\n",
    "\n",
    "# hyperparameters\n",
    "seq_length = 50\n",
    "hidden_size = 300\n",
    "lr = 1e-5\n",
    "\n",
    "# parameters initialisation \n",
    "Wxh = np.random.randn(hidden_size, vocab_size) * 0.01\n",
    "Whh = np.random.randn(hidden_size, hidden_size) * 0.01 \n",
    "Why = np.random.randn(vocab_size, hidden_size) * 0.01\n",
    "bh = np.zeros((hidden_size, 1))\n",
    "by = np.zeros((vocab_size, 1))\n",
    "\n",
    "# RMSprop \n",
    "decay_rate = 0.99\n",
    "mWhh = np.zeros_like(Whh)\n",
    "mWxh = np.zeros_like(Wxh)\n",
    "mWhy = np.zeros_like(Why)\n",
    "mbh = np.zeros_like(bh)\n",
    "mby = np.zeros_like(by)\n",
    "\n",
    "# total iteration counter\n",
    "iteration = 0\n",
    "# index for loading data\n",
    "load_idx = 0\n",
    "# initial hidden state\n",
    "hprev = np.zeros((hidden_size, 1))\n",
    "\n",
    "# print some info\n",
    "print(f'One epoch = {data_size/seq_length} iterations.')\n",
    "\n",
    "while True:\n",
    "    #------------------------------------------------------------------------------\n",
    "    # reset loading index\n",
    "    if load_idx + 1 + seq_length >= data_size:\n",
    "        load_idx = 0\n",
    "        hprev = np.zeros((hidden_size, 1))\n",
    "\n",
    "    #------------------------------------------------------------------------------\n",
    "    # load inputs and targets \n",
    "    inputs = [stoi[ch] for ch in data[load_idx:load_idx+seq_length]]\n",
    "    targets = [stoi[ch] for ch in data[load_idx+1:load_idx+seq_length+1]]\n",
    "    load_idx += seq_length\n",
    "\n",
    "    #------------------------------------------------------------------------------\n",
    "    # forward pass \n",
    "    xs, hs, ys, ps = {}, {}, {}, {}\n",
    "    loss = 0\n",
    "    hs[-1] = hprev\n",
    "\n",
    "    for t in range(len(inputs)):\n",
    "        # convert input to one-hot \n",
    "        xs[t] = np.zeros((vocab_size, 1))\n",
    "        xs[t][inputs[t]] = 1\n",
    "        hs[t] = np.tanh(Wxh @ xs[t] + Whh @ hs[t-1] + bh)\n",
    "        ys[t] = Why @ hs[t] + by\n",
    "        # cross entropy \n",
    "        ps[t] = ys[t]\n",
    "        #ps[t] -= np.max(ys[t])\n",
    "        ps[t] = np.exp(ps[t]) / np.sum(np.exp(ps[t]))\n",
    "        loss += -np.log(ps[t][targets[t]].item())\n",
    "    # save the last hidden state to next initial hidden state\n",
    "    hprev = hs[len(inputs)-1]\n",
    "\n",
    "    #------------------------------------------------------------------------------\n",
    "    # backward pass\n",
    "    dWhh = np.zeros_like(Whh)\n",
    "    dWxh = np.zeros_like(Wxh)\n",
    "    dWhy = np.zeros_like(Why)\n",
    "    dbh = np.zeros_like(bh)\n",
    "    dby = np.zeros_like(by)\n",
    "    dhnext = np.zeros_like(hs[0])\n",
    "\n",
    "    for t in reversed(range(len(inputs))):\n",
    "        dtarget = ps[t]\n",
    "        dtarget[targets[t]] -= 1\n",
    "        dby += dtarget\n",
    "        dWhy += dtarget @ hs[t].T\n",
    "        dh = Why.T @ dtarget + dhnext\n",
    "        dh_before_tanh = (1 - hs[t]**2) * dh \n",
    "        dbh += dh_before_tanh\n",
    "        dWxh += dh_before_tanh @ xs[t].T\n",
    "        dWhh += dh_before_tanh @ hs[t-1].T \n",
    "        dhnext = Whh.T @ dh_before_tanh\n",
    "\n",
    "    #------------------------------------------------------------------------------\n",
    "    # update\n",
    "    # RMSprop\n",
    "\n",
    "    for param, dparam, mparam in zip([Whh, Wxh, Why, bh, by],\n",
    "                            [dWhh, dWxh, dWhy, dbh, dby],\n",
    "                            [mWhh, mWxh, mWhy, mbh, mby]):\n",
    "        mparam  = decay_rate * mparam + (1 - decay_rate) * dparam**2\n",
    "        param += -lr * dparam / (np.sqrt(mparam) + 1e-8)\n",
    "\n",
    "    #------------------------------------------------------------------------------\n",
    "    print(f'Iteration : {iteration} | Loss : {loss}')\n",
    "    iteration += 1"
   ]
  },
  {
   "cell_type": "code",
   "execution_count": 13,
   "metadata": {},
   "outputs": [
    {
     "name": "stdout",
     "output_type": "stream",
     "text": [
      "xmkefnieqiqapintenpooevg\n",
      "veo\n",
      "wpcmcpesngkkeckbgiwbiewy\n",
      "xnbopcqj\n",
      "qiccvwshvepezkpxwgeweoxuncbj\n",
      "pmbshxcn\n"
     ]
    }
   ],
   "source": [
    "# sample \n",
    "h = np.zeros((hidden_size, 1))\n",
    "x = np.zeros((vocab_size, 1))\n",
    "x[0, 0] = 1\n",
    "\n",
    "result_idx = []\n",
    "\n",
    "for _ in range(100):\n",
    "    h = np.tanh(Wxh @ x + Whh @ h + bh)\n",
    "    y = Why @ h + by\n",
    "    p = np.exp(y) / np.sum(np.exp(y))\n",
    "    idx = np.random.choice(range(vocab_size), p=p.ravel())\n",
    "\n",
    "    result_idx.append(idx)\n",
    "\n",
    "    x = np.zeros((vocab_size, 1))\n",
    "    x[idx] = 1\n",
    "\n",
    "result_char = [itos[i] for i in result_idx]\n",
    "result = ''.join(result_char)\n",
    "print(result)"
   ]
  },
  {
   "cell_type": "code",
   "execution_count": null,
   "metadata": {},
   "outputs": [],
   "source": []
  }
 ],
 "metadata": {
  "kernelspec": {
   "display_name": "base",
   "language": "python",
   "name": "python3"
  },
  "language_info": {
   "codemirror_mode": {
    "name": "ipython",
    "version": 3
   },
   "file_extension": ".py",
   "mimetype": "text/x-python",
   "name": "python",
   "nbconvert_exporter": "python",
   "pygments_lexer": "ipython3",
   "version": "3.7.9"
  },
  "orig_nbformat": 4
 },
 "nbformat": 4,
 "nbformat_minor": 2
}
