{
 "cells": [
  {
   "cell_type": "code",
   "execution_count": 1,
   "metadata": {},
   "outputs": [
    {
     "name": "stdout",
     "output_type": "stream",
     "text": [
      "Data has 228145 characters, 27 unique.\n"
     ]
    }
   ],
   "source": [
    "import numpy as np\n",
    "\n",
    "# data I/O\n",
    "with open('names.txt', 'r') as f: \n",
    "    data = f.read()\n",
    "chars = list(set(data))\n",
    "data_size, vocab_size = len(data), len(chars)\n",
    "stoi = {j:i for i, j in enumerate(chars)}\n",
    "itos = {i:j for i, j in enumerate(chars)}\n",
    "\n",
    "print(f'Data has {data_size} characters, {vocab_size} unique.')"
   ]
  },
  {
   "cell_type": "code",
   "execution_count": 20,
   "metadata": {},
   "outputs": [],
   "source": [
    "# hyperparameters\n",
    "seq_length = 20\n",
    "hidden_size = 10\n",
    "\n",
    "# parameters \n",
    "np.random.seed(1234)\n",
    "Wxh = np.random.randn(hidden_size, vocab_size) * 0.01\n",
    "Whh = np.random.randn(hidden_size, hidden_size) * 0.01 \n",
    "Why = np.random.randn(vocab_size, hidden_size) * 0.01\n",
    "bh = np.zeros((hidden_size, 1))\n",
    "by = np.zeros((vocab_size, 1))"
   ]
  },
  {
   "cell_type": "code",
   "execution_count": 21,
   "metadata": {},
   "outputs": [],
   "source": [
    "# inputs and targets \n",
    "inputs = [stoi[ch] for ch in data[0:seq_length]]\n",
    "targets = [stoi[ch] for ch in data[1:seq_length+1]]\n",
    "\n",
    "# forward pass \n",
    "xs, hs, ys = {}, {}, {}\n",
    "hs[-1] = np.zeros((hidden_size, 1))\n",
    "\n",
    "for t in range(len(inputs)):\n",
    "    # convert input to one-hot \n",
    "    xs[t] = np.zeros((vocab_size, 1))\n",
    "    xs[t][inputs[t]] = 1\n",
    "    hs[t] = np.tanh(Wxh @ xs[t] + Whh @ hs[t-1] + bh)\n",
    "    ys[t] = Why @ hs[t] + by\n",
    "\n",
    "\n"
   ]
  },
  {
   "cell_type": "code",
   "execution_count": 22,
   "metadata": {},
   "outputs": [
    {
     "data": {
      "text/plain": [
       "20"
      ]
     },
     "execution_count": 22,
     "metadata": {},
     "output_type": "execute_result"
    }
   ],
   "source": [
    "len(inputs)"
   ]
  },
  {
   "cell_type": "code",
   "execution_count": null,
   "metadata": {},
   "outputs": [],
   "source": []
  }
 ],
 "metadata": {
  "kernelspec": {
   "display_name": "base",
   "language": "python",
   "name": "python3"
  },
  "language_info": {
   "codemirror_mode": {
    "name": "ipython",
    "version": 3
   },
   "file_extension": ".py",
   "mimetype": "text/x-python",
   "name": "python",
   "nbconvert_exporter": "python",
   "pygments_lexer": "ipython3",
   "version": "3.7.9"
  },
  "orig_nbformat": 4
 },
 "nbformat": 4,
 "nbformat_minor": 2
}
