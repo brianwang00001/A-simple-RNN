{
 "cells": [
  {
   "cell_type": "code",
   "execution_count": 351,
   "metadata": {},
   "outputs": [
    {
     "name": "stdout",
     "output_type": "stream",
     "text": [
      "Data has 228145 characters, 27 unique.\n"
     ]
    }
   ],
   "source": [
    "import numpy as np\n",
    "\n",
    "# data I/O\n",
    "with open('names.txt', 'r') as f: \n",
    "    data = f.read()\n",
    "chars = sorted(list(set(data)))\n",
    "data_size, vocab_size = len(data), len(chars)\n",
    "stoi = {j:i for i, j in enumerate(chars)}\n",
    "itos = {i:j for i, j in enumerate(chars)}\n",
    "\n",
    "print(f'Data has {data_size} characters, {vocab_size} unique.')"
   ]
  },
  {
   "cell_type": "code",
   "execution_count": 352,
   "metadata": {},
   "outputs": [],
   "source": [
    "# hyperparameters\n",
    "seq_length = 25\n",
    "hidden_size = 100\n",
    "\n",
    "np.random.seed(1234)\n",
    "# parameters \n",
    "Wxh = np.random.randn(hidden_size, vocab_size) * 0.01\n",
    "Whh = np.random.randn(hidden_size, hidden_size) * 0.01 \n",
    "Why = np.random.randn(vocab_size, hidden_size) * 0.01\n",
    "bh = np.zeros((hidden_size, 1))\n",
    "by = np.zeros((vocab_size, 1))"
   ]
  },
  {
   "cell_type": "code",
   "execution_count": 353,
   "metadata": {},
   "outputs": [],
   "source": [
    "# inputs and targets \n",
    "inputs = [stoi[ch] for ch in data[0:seq_length]]\n",
    "targets = [stoi[ch] for ch in data[1:seq_length+1]]"
   ]
  },
  {
   "cell_type": "code",
   "execution_count": 354,
   "metadata": {},
   "outputs": [
    {
     "name": "stdout",
     "output_type": "stream",
     "text": [
      "82.39381010667938\n"
     ]
    }
   ],
   "source": [
    "# forward pass \n",
    "xs, hs, ys, ps = {}, {}, {}, {}\n",
    "loss = 0\n",
    "hs[-1] = np.zeros((hidden_size, 1))\n",
    "\n",
    "for t in range(len(inputs)):\n",
    "    # convert input to one-hot \n",
    "    xs[t] = np.zeros((vocab_size, 1))\n",
    "    xs[t][inputs[t]] = 1\n",
    "    hs[t] = np.tanh(Wxh @ xs[t] + Whh @ hs[t-1] + bh)\n",
    "    ys[t] = Why @ hs[t] + by\n",
    "    # cross entropy \n",
    "    ps[t] = ys[t]\n",
    "    #ps[t] -= np.max(ys[t])\n",
    "    ps[t] = np.exp(ps[t]) / np.sum(np.exp(ps[t]))\n",
    "    loss += -np.log(ps[t][targets[t]].item())\n",
    "print(loss)\n"
   ]
  },
  {
   "cell_type": "code",
   "execution_count": 355,
   "metadata": {},
   "outputs": [],
   "source": [
    "# backward pass\n",
    "dWhh = np.zeros_like(Whh)\n",
    "dWxh = np.zeros_like(Wxh)\n",
    "dWhy = np.zeros_like(Why)\n",
    "dbh = np.zeros_like(bh)\n",
    "dby = np.zeros_like(by)\n",
    "dhnext = np.zeros_like(hs[0])\n",
    "\n",
    "for t in reversed(range(len(inputs))):\n",
    "    dtarget = ps[t]\n",
    "    dtarget[targets[t]] -= 1\n",
    "    dby += dtarget\n",
    "    dWhy += dtarget @ hs[t].T\n",
    "    dh = Why.T @ dtarget + dhnext\n",
    "    dh_before_tanh = (1 - hs[t]**2) * dh \n",
    "    dbh += dh_before_tanh\n",
    "    dWxh += dh_before_tanh @ xs[t].T\n",
    "    dWhh += dh_before_tanh @ hs[t-1].T \n",
    "    dhnext = Whh.T @ dh_before_tanh"
   ]
  },
  {
   "cell_type": "code",
   "execution_count": 349,
   "metadata": {},
   "outputs": [],
   "source": [
    "# update\n",
    "lr = 0.1\n",
    "for param, dparam in zip([Whh, Wxh, Why, bh, by],\n",
    "                         [dWhh, dWxh, dWhy, dbh, dby]):\n",
    "    param += -lr * dparam"
   ]
  },
  {
   "cell_type": "code",
   "execution_count": null,
   "metadata": {},
   "outputs": [],
   "source": []
  },
  {
   "cell_type": "code",
   "execution_count": null,
   "metadata": {},
   "outputs": [],
   "source": []
  },
  {
   "cell_type": "code",
   "execution_count": null,
   "metadata": {},
   "outputs": [],
   "source": []
  },
  {
   "cell_type": "code",
   "execution_count": null,
   "metadata": {},
   "outputs": [],
   "source": []
  }
 ],
 "metadata": {
  "kernelspec": {
   "display_name": "base",
   "language": "python",
   "name": "python3"
  },
  "language_info": {
   "codemirror_mode": {
    "name": "ipython",
    "version": 3
   },
   "file_extension": ".py",
   "mimetype": "text/x-python",
   "name": "python",
   "nbconvert_exporter": "python",
   "pygments_lexer": "ipython3",
   "version": "3.7.9"
  },
  "orig_nbformat": 4
 },
 "nbformat": 4,
 "nbformat_minor": 2
}
