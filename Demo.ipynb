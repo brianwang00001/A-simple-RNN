{
 "cells": [
  {
   "attachments": {},
   "cell_type": "markdown",
   "metadata": {},
   "source": [
    "# RNN from scratch: a character-level language model\n",
    "I am going to train this RNN on a datasets of names, then sample from it to see if it can generate some nanem-like texts."
   ]
  },
  {
   "attachments": {},
   "cell_type": "markdown",
   "metadata": {},
   "source": [
    "### Data I/O and initialise the model"
   ]
  },
  {
   "cell_type": "code",
   "execution_count": 27,
   "metadata": {},
   "outputs": [
    {
     "name": "stdout",
     "output_type": "stream",
     "text": [
      "Data has 228145 characters, 27 unique.\n",
      "One epoch equals 8450 iterations.\n"
     ]
    }
   ],
   "source": [
    "from RNN import RNN\n",
    "import numpy as np\n",
    "\n",
    "# load training data\n",
    "with open('names.txt', 'r') as f:\n",
    "    data = f.read() # chars\n",
    "\n",
    "# data I/O\n",
    "chars = sorted(list(set(data)))\n",
    "data_size = len(data) \n",
    "vocab_size = len(chars) # size of input and output vector\n",
    "stoi = {j: i for i, j in enumerate(chars)} # mapping from char to index\n",
    "itos = {i: j for i, j in enumerate(chars)} # mapping from index to char\n",
    "print(f'Data has {data_size} characters, {vocab_size} unique.')\n",
    "\n",
    "# define the model \n",
    "model = RNN(300, 50, vocab_size, data_size, stoi, itos)"
   ]
  },
  {
   "attachments": {},
   "cell_type": "markdown",
   "metadata": {},
   "source": [
    "### Generate some results before training."
   ]
  },
  {
   "cell_type": "code",
   "execution_count": 28,
   "metadata": {},
   "outputs": [
    {
     "name": "stdout",
     "output_type": "stream",
     "text": [
      "\n",
      "rpslzsyaidnbqidqbhtwohpbayvzhizatcceygvhaouegouredzleiqhfubvyggldfwgqyrdzphmchzxeyoptrjmfizblwzlmulgwkpt\n",
      "jfspvedzrkvrqcpazrcrurzopwsselmdilobdnpuilpalqbrczjuojpzxratvdk\n",
      "mi\n",
      "o\n",
      "lv\n",
      "hceohzwcqnuijkheiumznj\n"
     ]
    }
   ],
   "source": [
    "model.generate(200)"
   ]
  },
  {
   "attachments": {},
   "cell_type": "markdown",
   "metadata": {},
   "source": [
    "Yup, rubbish..."
   ]
  },
  {
   "attachments": {},
   "cell_type": "markdown",
   "metadata": {},
   "source": [
    "### Now train the model "
   ]
  },
  {
   "cell_type": "code",
   "execution_count": 29,
   "metadata": {},
   "outputs": [
    {
     "name": "stdout",
     "output_type": "stream",
     "text": [
      "Iteration : 0 | Loss : 3.2957058644027706\n",
      "Iteration : 5000 | Loss : 2.325400440775974\n",
      "Iteration : 10000 | Loss : 2.328420258302549\n",
      "Iteration : 15000 | Loss : 2.520360758262125\n",
      "Iteration : 20000 | Loss : 2.4080018315435185\n",
      "Iteration : 25000 | Loss : 2.318954487617848\n",
      "Iteration : 30000 | Loss : 2.4863944043173585\n",
      "Iteration : 35000 | Loss : 2.4349056348085343\n",
      "Iteration : 40000 | Loss : 2.2935690029743334\n",
      "--------------------------------------------------\n",
      "Training completed.\n"
     ]
    }
   ],
   "source": [
    "model.train(data, total_iteration=8450*5, lr=1e-5, show_loss_every=5000)\n",
    "# takes roughly 10 minutes for 8450*5 iterations on Apple M1 chip"
   ]
  },
  {
   "attachments": {},
   "cell_type": "markdown",
   "metadata": {},
   "source": [
    "### Print the loss curve"
   ]
  },
  {
   "cell_type": "code",
   "execution_count": 32,
   "metadata": {},
   "outputs": [
    {
     "data": {
      "image/png": "[encoded data removed]",
      "text/plain": [
       "<Figure size 432x288 with 1 Axes>"
      ]
     },
     "metadata": {
      "needs_background": "light"
     },
     "output_type": "display_data"
    }
   ],
   "source": [
    "import matplotlib.pyplot as plt\n",
    "\n",
    "alpha = 0.995\n",
    "smooth_loss = [model.loss_record[0]]\n",
    "for loss in model.loss_record[1:]:\n",
    "    smooth_loss.append(alpha * smooth_loss[-1] + (1 - alpha) * loss)\n",
    "\n",
    "plt.plot(model.iter_record, model.loss_record)\n",
    "plt.plot(model.iter_record, smooth_loss)\n",
    "plt.show()"
   ]
  },
  {
   "attachments": {},
   "cell_type": "markdown",
   "metadata": {},
   "source": [
    "### Generate some results again!"
   ]
  },
  {
   "cell_type": "code",
   "execution_count": 36,
   "metadata": {},
   "outputs": [
    {
     "name": "stdout",
     "output_type": "stream",
     "text": [
      "imahna\n",
      "malry\n",
      "elakina\n",
      "habrikera\n",
      "yaley\n",
      "kaydna\n",
      "launa\n",
      "erfona\n",
      "aminayas\n",
      "acia\n",
      "lialan\n",
      "iallan\n",
      "ajtelah\n",
      "ahimanima\n",
      "haicecul\n",
      "eelar\n",
      "ahahma\n",
      "maya\n",
      "ierie\n",
      "nazisez\n",
      "egdenu\n"
     ]
    }
   ],
   "source": [
    "model.generate(150)"
   ]
  },
  {
   "attachments": {},
   "cell_type": "markdown",
   "metadata": {},
   "source": [
    "Clearly, the results becomes more name-like :)"
   ]
  }
 ],
 "metadata": {
  "kernelspec": {
   "display_name": "base",
   "language": "python",
   "name": "python3"
  },
  "language_info": {
   "codemirror_mode": {
    "name": "ipython",
    "version": 3
   },
   "file_extension": ".py",
   "mimetype": "text/x-python",
   "name": "python",
   "nbconvert_exporter": "python",
   "pygments_lexer": "ipython3",
   "version": "3.7.9"
  },
  "orig_nbformat": 4
 },
 "nbformat": 4,
 "nbformat_minor": 2
}
